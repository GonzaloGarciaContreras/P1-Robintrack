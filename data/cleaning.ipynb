{
 "metadata": {
  "language_info": {
   "codemirror_mode": {
    "name": "ipython",
    "version": 3
   },
   "file_extension": ".py",
   "mimetype": "text/x-python",
   "name": "python",
   "nbconvert_exporter": "python",
   "pygments_lexer": "ipython3",
   "version": "3.7.6-final"
  },
  "orig_nbformat": 2,
  "kernelspec": {
   "name": "Python 3.7.6 64-bit",
   "display_name": "Python 3.7.6 64-bit",
   "metadata": {
    "interpreter": {
     "hash": "8d6ab33286f78d080320ea4280550503030699c9878852cc65d630c9e03cc862"
    }
   }
  }
 },
 "nbformat": 4,
 "nbformat_minor": 2,
 "cells": [
  {
   "cell_type": "code",
   "execution_count": 286,
   "metadata": {},
   "outputs": [],
   "source": [
    "import pandas as pd "
   ]
  },
  {
   "cell_type": "code",
   "execution_count": 317,
   "metadata": {},
   "outputs": [],
   "source": [
    "def clean_data(raw_csv):\n",
    "    # Read in csv and drop na\n",
    "    csv = pd.read_csv(raw_csv,infer_datetime_format=True)\n",
    "    csv = csv.dropna()\n",
    "\n",
    "    # Create mask from beginning to end of analyzed period\n",
    "    # Citation: https://www.interviewqs.com/ddi_code_snippets/select_pandas_dataframe_rows_between_two_dates\n",
    "    csv['timestamp'] = pd.to_datetime(csv['timestamp'])\n",
    "    start_date = '01-01-20 00:00:01'\n",
    "    end_date = '08-10-20 23:59:59'\n",
    "    mask = (csv['timestamp'] > start_date) & (csv['timestamp'] <= end_date)\n",
    "    csv = csv[mask]\n",
    "\n",
    "    # # If you run into trouble plotting with the time in the timestamps, uncommenting this will return only the date entries\n",
    "    # # We can decide whether we want to keep the first or last of the duplicates depending on how our data shapes out\n",
    "    # # Citation: https://stackoverflow.com/questions/35595710/splitting-timestamp-column-into-separate-date-and-time-columns\n",
    "    # csv['date'] = [d.date() for d in csv['timestamp']]\n",
    "    # csv['time'] = [d.time() for d in csv['timestamp']]\n",
    "    # csv = csv.drop(columns=['timestamp','time'])\n",
    "    # csv.set_index('date',drop=True, inplace=True)\n",
    "\n",
    "    new_csv = raw_csv.replace(\".csv\", \"_csv\")\n",
    "    new_csv = new_csv.replace(\"../data/rawdata/\",\"\")\n",
    "    csv.to_csv(f\"../data/cleandata/{new_csv}_clean.csv\")\n",
    "    return csv"
   ]
  },
  {
   "cell_type": "code",
   "execution_count": 318,
   "metadata": {},
   "outputs": [
    {
     "output_type": "execute_result",
     "data": {
      "text/plain": [
       "                timestamp  users_holding\n",
       "14083 2020-01-01 00:46:09           2149\n",
       "14084 2020-01-01 01:46:06           2149\n",
       "14085 2020-01-01 02:46:03           2149\n",
       "14086 2020-01-01 03:46:09           2149\n",
       "14087 2020-01-01 04:45:49           2149\n",
       "...                   ...            ...\n",
       "19737 2020-08-10 19:45:15           3575\n",
       "19738 2020-08-10 20:44:59           3576\n",
       "19739 2020-08-10 21:45:16           3576\n",
       "19740 2020-08-10 22:44:52           3574\n",
       "19741 2020-08-10 23:44:53           3574\n",
       "\n",
       "[5659 rows x 2 columns]"
      ],
      "text/html": "<div>\n<style scoped>\n    .dataframe tbody tr th:only-of-type {\n        vertical-align: middle;\n    }\n\n    .dataframe tbody tr th {\n        vertical-align: top;\n    }\n\n    .dataframe thead th {\n        text-align: right;\n    }\n</style>\n<table border=\"1\" class=\"dataframe\">\n  <thead>\n    <tr style=\"text-align: right;\">\n      <th></th>\n      <th>timestamp</th>\n      <th>users_holding</th>\n    </tr>\n  </thead>\n  <tbody>\n    <tr>\n      <th>14083</th>\n      <td>2020-01-01 00:46:09</td>\n      <td>2149</td>\n    </tr>\n    <tr>\n      <th>14084</th>\n      <td>2020-01-01 01:46:06</td>\n      <td>2149</td>\n    </tr>\n    <tr>\n      <th>14085</th>\n      <td>2020-01-01 02:46:03</td>\n      <td>2149</td>\n    </tr>\n    <tr>\n      <th>14086</th>\n      <td>2020-01-01 03:46:09</td>\n      <td>2149</td>\n    </tr>\n    <tr>\n      <th>14087</th>\n      <td>2020-01-01 04:45:49</td>\n      <td>2149</td>\n    </tr>\n    <tr>\n      <th>...</th>\n      <td>...</td>\n      <td>...</td>\n    </tr>\n    <tr>\n      <th>19737</th>\n      <td>2020-08-10 19:45:15</td>\n      <td>3575</td>\n    </tr>\n    <tr>\n      <th>19738</th>\n      <td>2020-08-10 20:44:59</td>\n      <td>3576</td>\n    </tr>\n    <tr>\n      <th>19739</th>\n      <td>2020-08-10 21:45:16</td>\n      <td>3576</td>\n    </tr>\n    <tr>\n      <th>19740</th>\n      <td>2020-08-10 22:44:52</td>\n      <td>3574</td>\n    </tr>\n    <tr>\n      <th>19741</th>\n      <td>2020-08-10 23:44:53</td>\n      <td>3574</td>\n    </tr>\n  </tbody>\n</table>\n<p>5659 rows × 2 columns</p>\n</div>"
     },
     "metadata": {},
     "execution_count": 318
    }
   ],
   "source": [
    "clean_data(\"../data/rawdata/ABB.csv\")"
   ]
  },
  {
   "cell_type": "code",
   "execution_count": null,
   "metadata": {},
   "outputs": [],
   "source": []
  },
  {
   "cell_type": "code",
   "execution_count": null,
   "metadata": {},
   "outputs": [],
   "source": []
  }
 ]
}