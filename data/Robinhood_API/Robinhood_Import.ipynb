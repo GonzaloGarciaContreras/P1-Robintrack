{
 "metadata": {
  "language_info": {
   "codemirror_mode": {
    "name": "ipython",
    "version": 3
   },
   "file_extension": ".py",
   "mimetype": "text/x-python",
   "name": "python",
   "nbconvert_exporter": "python",
   "pygments_lexer": "ipython3",
   "version": "3.8.3-final"
  },
  "orig_nbformat": 2,
  "kernelspec": {
   "name": "Python 3.8.3 64-bit (conda)",
   "display_name": "Python 3.8.3 64-bit (conda)",
   "metadata": {
    "interpreter": {
     "hash": "b3ba2566441a7c06988d0923437866b63cedc61552a5af99d1f4fb67d367b25f"
    }
   }
  }
 },
 "nbformat": 4,
 "nbformat_minor": 2,
 "cells": [
  {
   "cell_type": "code",
   "execution_count": null,
   "metadata": {},
   "outputs": [],
   "source": [
    "import robin_stocks as rs\n",
    "import requests\n",
    "from dotenv import load_dotenv\n",
    "import os\n",
    "import pandas as pd"
   ]
  },
  {
   "cell_type": "code",
   "execution_count": null,
   "metadata": {},
   "outputs": [],
   "source": [
    "load_dotenv()"
   ]
  },
  {
   "cell_type": "code",
   "execution_count": null,
   "metadata": {},
   "outputs": [],
   "source": [
    "robin_user = os.getenv(\"ROBINHOOD_USER\")\n",
    "robin_pass = os.getenv(\"ROBINHOOD_PASSWORD\")"
   ]
  },
  {
   "source": [
    " rs.login(username=robin_user,\n",
    "          password=robin_pass,\n",
    "          expiresIn=86400,\n",
    "          by_sms=True)"
   ],
   "cell_type": "code",
   "metadata": {},
   "execution_count": null,
   "outputs": []
  },
  {
   "cell_type": "code",
   "execution_count": null,
   "metadata": {},
   "outputs": [],
   "source": [
    "# for yahoo_file in os.listdir('../cleandata/Yahoo_Finance_Data/'):\n",
    "#     yahoo_csv = pd.read_csv(f'../cleandata/Yahoo_Finance_Data/{yahoo_file}')\n",
    "\n",
    "#     for data in yahoo_csv:\n",
    "#         ticker = yahoo_file.replace(\"../cleandata/Yahoo_Finance_Data/\",\"\").replace(\"_yahoo_csv_clean.csv\",\"\")\n",
    "#         spot_price = yahoo_csv['Close']\n",
    "#         options_historical = rs.options.get_option_historicals('AAPL',\n",
    "#                                     '2019-10-18',\n",
    "#                                     \"440\",\n",
    "#                                     'put',\n",
    "#                                     interval='day',\n",
    "#                                     span='year',\n",
    "#                                     bounds='regular')\n",
    "\n",
    "# Pull Crypto Data from Robinhood API"
   ]
  },
  {
   "cell_type": "code",
   "execution_count": null,
   "metadata": {},
   "outputs": [],
   "source": [
    "def get_crypto_data(symbol):\n",
    "    pair_data = (rs.get_crypto_historicals(symbol=f'{symbol}',\n",
    "                          interval='day',\n",
    "                          span='year'))\n",
    "    df = pd.DataFrame(pair_data)\n",
    "    df.rename(columns={'begins_at' : 'timestamp'}, inplace=True)\n",
    "    pair_csv = df.loc[:,['timestamp', 'open_price','close_price','high_price','low_price']]\n",
    "    pair_csv.to_csv(f\"../rawdata/Robinhood_Crypto_Data/{symbol}.csv\")"
   ]
  },
  {
   "cell_type": "code",
   "execution_count": null,
   "metadata": {},
   "outputs": [],
   "source": [
    "crypto_list = ['BTC', 'ETH', 'LTC', 'XRP', 'DOGE']"
   ]
  },
  {
   "cell_type": "code",
   "execution_count": null,
   "metadata": {},
   "outputs": [],
   "source": [
    "for crypto in crypto_list:\n",
    "    get_crypto_data(crypto)"
   ]
  },
  {
   "cell_type": "code",
   "execution_count": null,
   "metadata": {},
   "outputs": [],
   "source": []
  }
 ]
}