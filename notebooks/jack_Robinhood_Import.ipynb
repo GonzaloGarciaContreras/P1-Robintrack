{
 "metadata": {
  "language_info": {
   "codemirror_mode": {
    "name": "ipython",
    "version": 3
   },
   "file_extension": ".py",
   "mimetype": "text/x-python",
   "name": "python",
   "nbconvert_exporter": "python",
   "pygments_lexer": "ipython3",
   "version": "3.8.3-final"
  },
  "orig_nbformat": 2,
  "kernelspec": {
   "name": "Python 3.8.3 64-bit (conda)",
   "display_name": "Python 3.8.3 64-bit (conda)",
   "metadata": {
    "interpreter": {
     "hash": "b3ba2566441a7c06988d0923437866b63cedc61552a5af99d1f4fb67d367b25f"
    }
   }
  }
 },
 "nbformat": 4,
 "nbformat_minor": 2,
 "cells": [
  {
   "cell_type": "code",
   "execution_count": null,
   "metadata": {},
   "outputs": [],
   "source": [
    "import robin_stocks as rs\n",
    "import requests\n",
    "from dotenv import load_dotenv\n",
    "import os\n",
    "import pandas as pd"
   ]
  },
  {
   "cell_type": "code",
   "execution_count": null,
   "metadata": {},
   "outputs": [],
   "source": [
    "load_dotenv()"
   ]
  },
  {
   "cell_type": "code",
   "execution_count": null,
   "metadata": {},
   "outputs": [],
   "source": [
    "robin_user = os.getenv(\"ROBINHOOD_USER\")\n",
    "robin_pass = os.getenv(\"ROBINHOOD_PASSWORD\")"
   ]
  },
  {
   "source": [
    " rs.login(username=robin_user,\n",
    "          password=robin_pass,\n",
    "          expiresIn=86400,\n",
    "          by_sms=True)"
   ],
   "cell_type": "code",
   "metadata": {},
   "execution_count": null,
   "outputs": []
  },
  {
   "cell_type": "code",
   "execution_count": null,
   "metadata": {},
   "outputs": [],
   "source": [
    "# Create function to pull crypto data from Robinhood API\n",
    "def get_crypto_data(symbol):\n",
    "    pair_data = (rs.get_crypto_historicals(symbol=f'{symbol}',\n",
    "                          interval='day',\n",
    "                          span='year'))\n",
    "    df = pd.DataFrame(pair_data)\n",
    "    df.rename(columns={'begins_at' : 'timestamp'}, inplace=True)\n",
    "    pair_csv = df.loc[:,['timestamp', 'open_price','close_price','high_price','low_price']]\n",
    "    pair_csv.to_csv(f\"../rawdata/Robinhood_Crypto_Data/{symbol}.csv\")"
   ]
  },
  {
   "cell_type": "code",
   "execution_count": null,
   "metadata": {},
   "outputs": [],
   "source": [
    "# List cryptos we want to use\n",
    "crypto_list = ['BTC', 'ETH', 'LTC', 'XRP', 'DOGE']"
   ]
  },
  {
   "cell_type": "code",
   "execution_count": null,
   "metadata": {},
   "outputs": [],
   "source": [
    "# Pull Crypto Data from Robinhood API\n",
    "for crypto in crypto_list:\n",
    "    get_crypto_data(crypto)"
   ]
  },
  {
   "cell_type": "code",
   "execution_count": null,
   "metadata": {},
   "outputs": [],
   "source": [
    "def logout():\n",
    "    helper.set_login_state(False)\n",
    "    helper.update_session('Authorization', None)"
   ]
  },
  {
   "cell_type": "code",
   "execution_count": null,
   "metadata": {},
   "outputs": [],
   "source": [
    "logout"
   ]
  },
  {
   "cell_type": "code",
   "execution_count": null,
   "metadata": {},
   "outputs": [],
   "source": []
  }
 ]
}