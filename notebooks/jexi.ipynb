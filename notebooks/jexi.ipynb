{
 "cells": [
  {
   "cell_type": "code",
   "execution_count": 25,
   "metadata": {},
   "outputs": [],
   "source": [
    "import os\n",
    "import pandas as pd\n",
    "import matplotlib.pyplot as plt\n",
    "import plotly.express as px\n",
    "import panel as pn\n",
    "from panel.interact import interact\n",
    "from panel import widgets\n",
    "pn.extension('plotly')\n",
    "import hvplot.pandas\n",
    "from pathlib import Path\n",
    "import datetime as dt \n",
    "import alpaca_trade_api as tradeapi\n",
    "from dotenv import load_dotenv"
   ]
  },
  {
   "cell_type": "code",
   "execution_count": 26,
   "metadata": {},
   "outputs": [
    {
     "data": {
      "text/plain": [
       "True"
      ]
     },
     "execution_count": 26,
     "metadata": {},
     "output_type": "execute_result"
    }
   ],
   "source": [
    "load_dotenv()"
   ]
  },
  {
   "cell_type": "code",
   "execution_count": 27,
   "metadata": {},
   "outputs": [],
   "source": [
    "# Import the CSVs RobinTrack (rt) to Pandas DataFrames\n",
    "abb_path = Path(\"../data/cleandata/Robintrack_Data/ABB_csv_clean.csv\")\n",
    "amd_path = Path(\"../data/cleandata/Robintrack_Data/AMD_csv_clean.csv\")\n",
    "riot_path = Path(\"../data/cleandata/Robintrack_Data/RIOT_csv_clean.csv\")\n",
    "tsla_path = Path(\"../data/cleandata/Robintrack_Data/TSLA_csv_clean.csv\")\n",
    "\n",
    "abb_rt_data = pd.read_csv(abb_path, infer_datetime_format=True, parse_dates=True)\n",
    "amd__rt_data = pd.read_csv(amd_path, infer_datetime_format=True, parse_dates=True)\n",
    "riot_rt_data = pd.read_csv(riot_path, infer_datetime_format=True, parse_dates=True)\n",
    "tsla_data = pd.read_csv(tsla_path, infer_datetime_format=True, parse_dates=True)"
   ]
  },
  {
   "cell_type": "code",
   "execution_count": 28,
   "metadata": {},
   "outputs": [],
   "source": [
    "# Set Alpaca API key and secret\n",
    "alpaca_api_key = os.getenv(\"APCA_API_KEY\")\n",
    "alpaca_secret_key = os.getenv(\"APCA_SECRET_KEY\")\n",
    "\n",
    "# Create the Alpaca API object\n",
    "api = tradeapi.REST(\n",
    "    alpaca_api_key,\n",
    "    alpaca_secret_key,\n",
    "    api_version = \"v2\"\n",
    ")"
   ]
  },
  {
   "cell_type": "code",
   "execution_count": 29,
   "metadata": {},
   "outputs": [
    {
     "data": {
      "text/plain": [
       "str"
      ]
     },
     "execution_count": 29,
     "metadata": {},
     "output_type": "execute_result"
    }
   ],
   "source": [
    "type(alpaca_api_key)"
   ]
  },
  {
   "cell_type": "code",
   "execution_count": 30,
   "metadata": {},
   "outputs": [],
   "source": [
    "# Format current date as ISO format\n",
    "start_date = pd.Timestamp(\"2020-01-01\", tz=\"America/New_York\").isoformat()\n",
    "\n",
    "end_date = pd.Timestamp(\"2020-08-10\", tz=\"America/New_York\").isoformat()\n",
    "\n",
    "# Set the tickers\n",
    "tickers = [\"ABB\", \"AMD\", \"RIOT\", \"TSLA\"]\n",
    "\n",
    "# Set timeframe to '1D' for Alpaca API\n",
    "timeframe = \"1D\"\n",
    "\n",
    "# Get current closing prices for \"ABB\", \"AMD\", \"RIOT\", and \"TSLA\"\n",
    "shares_df = api.get_barset(\n",
    "    tickers,\n",
    "    timeframe,\n",
    "    start = start_date,\n",
    "    end = end_date\n",
    ").df\n",
    "\n",
    "close_price_stocks= shares_df.xs(\"close\", axis='columns', level=1)"
   ]
  },
  {
   "cell_type": "code",
   "execution_count": 31,
   "metadata": {},
   "outputs": [],
   "source": [
    "# Define Panel Visualization Functions\n",
    "def robintrack_ABB_stock_price ():\n",
    "    \"\"\"Robintrack AAB's accounts effect on ABB's price.\"\"\"\n",
    "    abb_rt_data = abb_rt_data.resample('D', on='timestamp').mean()\n",
    "    abb_rt_data['users_holding'] = abb_rt_data['users_holding'].fillna(2147.00)\n",
    "    close_price_stocks[\"ABB\"] = close_price_stocks[\"ABB\"][\"close\"]\n",
    "    close_price_stocks.index = close_price_stocks.index.date\n",
    "    concat_robin_ticker = pd.concat([close_price_stocks, abb_rt_data], axis=\"columns\", join=\"inner\")\n",
    "    daily_ret_abb = concat_robin_ticker.pct_change()\n",
    "    abb_corr_plot = daily_ret_abb.hvplot.line(title='RobinTrack ABB Accounts Effect in ABB Stock Price')\n",
    "    return abb_corr_plot\n",
    "    \n",
    "\n",
    "    "
   ]
  },
  {
   "cell_type": "markdown",
   "metadata": {},
   "source": [
    "# Panel Dashboard"
   ]
  },
  {
   "cell_type": "code",
   "execution_count": 32,
   "metadata": {},
   "outputs": [
    {
     "ename": "UnboundLocalError",
     "evalue": "local variable 'abb_rt_data' referenced before assignment",
     "output_type": "error",
     "traceback": [
      "\u001b[1;31m---------------------------------------------------------------------------\u001b[0m",
      "\u001b[1;31mUnboundLocalError\u001b[0m                         Traceback (most recent call last)",
      "\u001b[1;32m<ipython-input-32-9e9006abd37e>\u001b[0m in \u001b[0;36m<module>\u001b[1;34m\u001b[0m\n\u001b[1;32m----> 1\u001b[1;33m \u001b[0mabb_analysis\u001b[0m\u001b[1;33m=\u001b[0m \u001b[0mpn\u001b[0m\u001b[1;33m.\u001b[0m\u001b[0mRow\u001b[0m\u001b[1;33m(\u001b[0m\u001b[1;34m\"## ABB RobinTrack and Stock Price Analysis\"\u001b[0m\u001b[1;33m,\u001b[0m \u001b[0mrobintrack_ABB_stock_price\u001b[0m \u001b[1;33m(\u001b[0m\u001b[1;33m)\u001b[0m\u001b[1;33m)\u001b[0m\u001b[1;33m\u001b[0m\u001b[1;33m\u001b[0m\u001b[0m\n\u001b[0m\u001b[0;32m      2\u001b[0m \u001b[1;33m\u001b[0m\u001b[0m\n\u001b[0;32m      3\u001b[0m \u001b[1;31m# Create tabs\u001b[0m\u001b[1;33m\u001b[0m\u001b[1;33m\u001b[0m\u001b[1;33m\u001b[0m\u001b[0m\n\u001b[0;32m      4\u001b[0m \u001b[1;33m\u001b[0m\u001b[0m\n\u001b[0;32m      5\u001b[0m \u001b[0mrobintrack_stock_analysis_dashboard\u001b[0m \u001b[1;33m=\u001b[0m \u001b[0mpn\u001b[0m\u001b[1;33m.\u001b[0m\u001b[0mTabs\u001b[0m\u001b[1;33m(\u001b[0m\u001b[1;34m\"ABB Analysis\"\u001b[0m\u001b[1;33m,\u001b[0m \u001b[0mabb_analysis\u001b[0m\u001b[1;33m)\u001b[0m\u001b[1;33m\u001b[0m\u001b[1;33m\u001b[0m\u001b[0m\n",
      "\u001b[1;32m<ipython-input-31-e3f9515818c4>\u001b[0m in \u001b[0;36mrobintrack_ABB_stock_price\u001b[1;34m()\u001b[0m\n\u001b[0;32m      2\u001b[0m \u001b[1;32mdef\u001b[0m \u001b[0mrobintrack_ABB_stock_price\u001b[0m \u001b[1;33m(\u001b[0m\u001b[1;33m)\u001b[0m\u001b[1;33m:\u001b[0m\u001b[1;33m\u001b[0m\u001b[1;33m\u001b[0m\u001b[0m\n\u001b[0;32m      3\u001b[0m     \u001b[1;34m\"\"\"Robintrack AAB's accounts effect on ABB's price.\"\"\"\u001b[0m\u001b[1;33m\u001b[0m\u001b[1;33m\u001b[0m\u001b[0m\n\u001b[1;32m----> 4\u001b[1;33m     \u001b[0mabb_rt_data\u001b[0m \u001b[1;33m=\u001b[0m \u001b[0mabb_rt_data\u001b[0m\u001b[1;33m.\u001b[0m\u001b[0mresample\u001b[0m\u001b[1;33m(\u001b[0m\u001b[1;34m'D'\u001b[0m\u001b[1;33m,\u001b[0m \u001b[0mon\u001b[0m\u001b[1;33m=\u001b[0m\u001b[1;34m'timestamp'\u001b[0m\u001b[1;33m)\u001b[0m\u001b[1;33m.\u001b[0m\u001b[0mmean\u001b[0m\u001b[1;33m(\u001b[0m\u001b[1;33m)\u001b[0m\u001b[1;33m\u001b[0m\u001b[1;33m\u001b[0m\u001b[0m\n\u001b[0m\u001b[0;32m      5\u001b[0m     \u001b[0mabb_rt_data\u001b[0m\u001b[1;33m[\u001b[0m\u001b[1;34m'users_holding'\u001b[0m\u001b[1;33m]\u001b[0m \u001b[1;33m=\u001b[0m \u001b[0mabb_rt_data\u001b[0m\u001b[1;33m[\u001b[0m\u001b[1;34m'users_holding'\u001b[0m\u001b[1;33m]\u001b[0m\u001b[1;33m.\u001b[0m\u001b[0mfillna\u001b[0m\u001b[1;33m(\u001b[0m\u001b[1;36m2147.00\u001b[0m\u001b[1;33m)\u001b[0m\u001b[1;33m\u001b[0m\u001b[1;33m\u001b[0m\u001b[0m\n\u001b[0;32m      6\u001b[0m     \u001b[0mclose_price_stocks\u001b[0m\u001b[1;33m[\u001b[0m\u001b[1;34m\"ABB\"\u001b[0m\u001b[1;33m]\u001b[0m \u001b[1;33m=\u001b[0m \u001b[0mclose_price_stocks\u001b[0m\u001b[1;33m[\u001b[0m\u001b[1;34m\"ABB\"\u001b[0m\u001b[1;33m]\u001b[0m\u001b[1;33m[\u001b[0m\u001b[1;34m\"close\"\u001b[0m\u001b[1;33m]\u001b[0m\u001b[1;33m\u001b[0m\u001b[1;33m\u001b[0m\u001b[0m\n",
      "\u001b[1;31mUnboundLocalError\u001b[0m: local variable 'abb_rt_data' referenced before assignment"
     ]
    }
   ],
   "source": [
    "abb_analysis= pn.Row(\"## ABB RobinTrack and Stock Price Analysis\", robintrack_ABB_stock_price ())\n",
    "\n",
    "# Create tabs\n",
    "\n",
    "robintrack_stock_analysis_dashboard = pn.Tabs(\"ABB Analysis\", abb_analysis)\n",
    "\n",
    "dashboard= pn.Column(pn.Row(\"Effect of Number of Individual Robinhood on Unerlying Price & Option Volatility for RIOT, AMD, ABB, and TSLA\"), \n",
    "                     robintrack_stock_analysis_dashboard)"
   ]
  },
  {
   "cell_type": "markdown",
   "metadata": {},
   "source": [
    "# Serve the Panel Dashboard"
   ]
  },
  {
   "cell_type": "code",
   "execution_count": null,
   "metadata": {},
   "outputs": [],
   "source": [
    "dashboard.servable()"
   ]
  }
 ],
 "metadata": {
  "kernelspec": {
   "display_name": "Python [conda env:pyvizenv] *",
   "language": "python",
   "name": "conda-env-pyvizenv-py"
  },
  "language_info": {
   "codemirror_mode": {
    "name": "ipython",
    "version": 3
   },
   "file_extension": ".py",
   "mimetype": "text/x-python",
   "name": "python",
   "nbconvert_exporter": "python",
   "pygments_lexer": "ipython3",
   "version": "3.7.7"
  }
 },
 "nbformat": 4,
 "nbformat_minor": 4
}
