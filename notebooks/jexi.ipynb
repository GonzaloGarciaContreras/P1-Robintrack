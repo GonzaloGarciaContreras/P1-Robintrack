{
 "cells": [
  {
   "cell_type": "code",
   "execution_count": 84,
   "metadata": {},
   "outputs": [],
   "source": [
    "import os\n",
    "import pandas as pd\n",
    "import numpy as np\n",
    "import matplotlib.pyplot as plt\n",
    "import plotly.express as px\n",
    "import panel as pn\n",
    "from panel.interact import interact\n",
    "from panel import widgets\n",
    "pn.extension('plotly')\n",
    "import hvplot.pandas\n",
    "from pathlib import Path\n",
    "import datetime as dt \n",
    "import alpaca_trade_api as tradeapi\n",
    "from dotenv import load_dotenv"
   ]
  },
  {
   "cell_type": "code",
   "execution_count": 85,
   "metadata": {},
   "outputs": [
    {
     "data": {
      "text/plain": [
       "True"
      ]
     },
     "execution_count": 85,
     "metadata": {},
     "output_type": "execute_result"
    }
   ],
   "source": [
    "load_dotenv()"
   ]
  },
  {
   "cell_type": "code",
   "execution_count": 86,
   "metadata": {},
   "outputs": [
    {
     "data": {
      "text/html": [
       "<div>\n",
       "<style scoped>\n",
       "    .dataframe tbody tr th:only-of-type {\n",
       "        vertical-align: middle;\n",
       "    }\n",
       "\n",
       "    .dataframe tbody tr th {\n",
       "        vertical-align: top;\n",
       "    }\n",
       "\n",
       "    .dataframe thead th {\n",
       "        text-align: right;\n",
       "    }\n",
       "</style>\n",
       "<table border=\"1\" class=\"dataframe\">\n",
       "  <thead>\n",
       "    <tr style=\"text-align: right;\">\n",
       "      <th></th>\n",
       "      <th>timestamp</th>\n",
       "      <th>users_holding</th>\n",
       "    </tr>\n",
       "  </thead>\n",
       "  <tbody>\n",
       "    <tr>\n",
       "      <th>0</th>\n",
       "      <td>2020-01-01 00:46:09</td>\n",
       "      <td>2149</td>\n",
       "    </tr>\n",
       "    <tr>\n",
       "      <th>1</th>\n",
       "      <td>2020-01-01 01:46:06</td>\n",
       "      <td>2149</td>\n",
       "    </tr>\n",
       "    <tr>\n",
       "      <th>2</th>\n",
       "      <td>2020-01-01 02:46:03</td>\n",
       "      <td>2149</td>\n",
       "    </tr>\n",
       "    <tr>\n",
       "      <th>3</th>\n",
       "      <td>2020-01-01 03:46:09</td>\n",
       "      <td>2149</td>\n",
       "    </tr>\n",
       "    <tr>\n",
       "      <th>4</th>\n",
       "      <td>2020-01-01 04:45:49</td>\n",
       "      <td>2149</td>\n",
       "    </tr>\n",
       "  </tbody>\n",
       "</table>\n",
       "</div>"
      ],
      "text/plain": [
       "             timestamp  users_holding\n",
       "0  2020-01-01 00:46:09           2149\n",
       "1  2020-01-01 01:46:06           2149\n",
       "2  2020-01-01 02:46:03           2149\n",
       "3  2020-01-01 03:46:09           2149\n",
       "4  2020-01-01 04:45:49           2149"
      ]
     },
     "execution_count": 86,
     "metadata": {},
     "output_type": "execute_result"
    }
   ],
   "source": [
    "# Import the CSVs RobinTrack (rt) to Pandas DataFrames\n",
    "abb_path = Path(\"../data/cleandata/Robintrack_Data/ABB_csv_clean.csv\")\n",
    "amd_path = Path(\"../data/cleandata/Robintrack_Data/AMD_csv_clean.csv\")\n",
    "riot_path = Path(\"../data/cleandata/Robintrack_Data/RIOT_csv_clean.csv\")\n",
    "tsla_path = Path(\"../data/cleandata/Robintrack_Data/TSLA_csv_clean.csv\")\n",
    "\n",
    "abb_rt_data = pd.read_csv(abb_path, infer_datetime_format=True, parse_dates=True)\n",
    "amd__rt_data = pd.read_csv(amd_path, infer_datetime_format=True, parse_dates=True)\n",
    "riot_rt_data = pd.read_csv(riot_path, infer_datetime_format=True, parse_dates=True)\n",
    "tsla_data = pd.read_csv(tsla_path, infer_datetime_format=True, parse_dates=True)\n",
    "abb_rt_data.head()"
   ]
  },
  {
   "cell_type": "code",
   "execution_count": 87,
   "metadata": {},
   "outputs": [],
   "source": [
    "# Set Alpaca API key and secret\n",
    "alpaca_api_key = os.getenv(\"APCA_API_KEY\")\n",
    "alpaca_secret_key = os.getenv(\"APCA_SECRET_KEY\")\n",
    "\n",
    "# Create the Alpaca API object\n",
    "api = tradeapi.REST(\n",
    "    alpaca_api_key,\n",
    "    alpaca_secret_key,\n",
    "    api_version = \"v2\"\n",
    ")"
   ]
  },
  {
   "cell_type": "code",
   "execution_count": 88,
   "metadata": {},
   "outputs": [
    {
     "data": {
      "text/plain": [
       "str"
      ]
     },
     "execution_count": 88,
     "metadata": {},
     "output_type": "execute_result"
    }
   ],
   "source": [
    "type(alpaca_api_key)"
   ]
  },
  {
   "cell_type": "code",
   "execution_count": 89,
   "metadata": {},
   "outputs": [
    {
     "data": {
      "text/html": [
       "<div>\n",
       "<style scoped>\n",
       "    .dataframe tbody tr th:only-of-type {\n",
       "        vertical-align: middle;\n",
       "    }\n",
       "\n",
       "    .dataframe tbody tr th {\n",
       "        vertical-align: top;\n",
       "    }\n",
       "\n",
       "    .dataframe thead th {\n",
       "        text-align: right;\n",
       "    }\n",
       "</style>\n",
       "<table border=\"1\" class=\"dataframe\">\n",
       "  <thead>\n",
       "    <tr style=\"text-align: right;\">\n",
       "      <th></th>\n",
       "      <th>ABB</th>\n",
       "      <th>AMD</th>\n",
       "      <th>RIOT</th>\n",
       "      <th>TSLA</th>\n",
       "    </tr>\n",
       "    <tr>\n",
       "      <th>time</th>\n",
       "      <th></th>\n",
       "      <th></th>\n",
       "      <th></th>\n",
       "      <th></th>\n",
       "    </tr>\n",
       "  </thead>\n",
       "  <tbody>\n",
       "    <tr>\n",
       "      <th>2020-01-02 00:00:00-05:00</th>\n",
       "      <td>24.37</td>\n",
       "      <td>49.11</td>\n",
       "      <td>1.217</td>\n",
       "      <td>430.2400</td>\n",
       "    </tr>\n",
       "    <tr>\n",
       "      <th>2020-01-03 00:00:00-05:00</th>\n",
       "      <td>24.17</td>\n",
       "      <td>48.57</td>\n",
       "      <td>1.190</td>\n",
       "      <td>442.7500</td>\n",
       "    </tr>\n",
       "    <tr>\n",
       "      <th>2020-01-06 00:00:00-05:00</th>\n",
       "      <td>24.32</td>\n",
       "      <td>48.39</td>\n",
       "      <td>1.290</td>\n",
       "      <td>451.4001</td>\n",
       "    </tr>\n",
       "    <tr>\n",
       "      <th>2020-01-07 00:00:00-05:00</th>\n",
       "      <td>24.28</td>\n",
       "      <td>48.24</td>\n",
       "      <td>1.485</td>\n",
       "      <td>469.1700</td>\n",
       "    </tr>\n",
       "    <tr>\n",
       "      <th>2020-01-08 00:00:00-05:00</th>\n",
       "      <td>24.36</td>\n",
       "      <td>47.84</td>\n",
       "      <td>1.350</td>\n",
       "      <td>492.0900</td>\n",
       "    </tr>\n",
       "  </tbody>\n",
       "</table>\n",
       "</div>"
      ],
      "text/plain": [
       "                             ABB    AMD   RIOT      TSLA\n",
       "time                                                    \n",
       "2020-01-02 00:00:00-05:00  24.37  49.11  1.217  430.2400\n",
       "2020-01-03 00:00:00-05:00  24.17  48.57  1.190  442.7500\n",
       "2020-01-06 00:00:00-05:00  24.32  48.39  1.290  451.4001\n",
       "2020-01-07 00:00:00-05:00  24.28  48.24  1.485  469.1700\n",
       "2020-01-08 00:00:00-05:00  24.36  47.84  1.350  492.0900"
      ]
     },
     "execution_count": 89,
     "metadata": {},
     "output_type": "execute_result"
    }
   ],
   "source": [
    "# Format current date as ISO format\n",
    "start_date = pd.Timestamp(\"2020-01-01\", tz=\"America/New_York\").isoformat()\n",
    "\n",
    "end_date = pd.Timestamp(\"2020-08-10\", tz=\"America/New_York\").isoformat()\n",
    "\n",
    "# Set the tickers\n",
    "tickers = [\"ABB\", \"TSLA\", \"AMD\", \"RIOT\"]\n",
    "\n",
    "# Set timeframe to '1D' \n",
    "timeframe = \"1D\"\n",
    "\n",
    "# Get current closing prices for SPY and AGG\n",
    "df_tickers = api.get_barset(\n",
    "    tickers,\n",
    "    timeframe,\n",
    "    start=start_date,\n",
    "    end=end_date\n",
    ").df\n",
    "df_tickers_closing_prices= df_tickers.xs(\"close\", axis='columns', level=1)\n",
    "df_tickers_closing_prices.head()"
   ]
  },
  {
   "cell_type": "code",
   "execution_count": 90,
   "metadata": {},
   "outputs": [
    {
     "name": "stderr",
     "output_type": "stream",
     "text": [
      "C:\\Users\\jexib\\anaconda3\\envs\\pyvizenv\\lib\\site-packages\\ipykernel_launcher.py:2: SettingWithCopyWarning: \n",
      "A value is trying to be set on a copy of a slice from a DataFrame.\n",
      "Try using .loc[row_indexer,col_indexer] = value instead\n",
      "\n",
      "See the caveats in the documentation: http://pandas.pydata.org/pandas-docs/stable/indexing.html#indexing-view-versus-copy\n",
      "  \n",
      "C:\\Users\\jexib\\anaconda3\\envs\\pyvizenv\\lib\\site-packages\\ipykernel_launcher.py:3: SettingWithCopyWarning: \n",
      "A value is trying to be set on a copy of a slice from a DataFrame.\n",
      "Try using .loc[row_indexer,col_indexer] = value instead\n",
      "\n",
      "See the caveats in the documentation: http://pandas.pydata.org/pandas-docs/stable/indexing.html#indexing-view-versus-copy\n",
      "  This is separate from the ipykernel package so we can avoid doing imports until\n",
      "C:\\Users\\jexib\\anaconda3\\envs\\pyvizenv\\lib\\site-packages\\ipykernel_launcher.py:4: SettingWithCopyWarning: \n",
      "A value is trying to be set on a copy of a slice from a DataFrame.\n",
      "Try using .loc[row_indexer,col_indexer] = value instead\n",
      "\n",
      "See the caveats in the documentation: http://pandas.pydata.org/pandas-docs/stable/indexing.html#indexing-view-versus-copy\n",
      "  after removing the cwd from sys.path.\n",
      "C:\\Users\\jexib\\anaconda3\\envs\\pyvizenv\\lib\\site-packages\\ipykernel_launcher.py:5: SettingWithCopyWarning: \n",
      "A value is trying to be set on a copy of a slice from a DataFrame.\n",
      "Try using .loc[row_indexer,col_indexer] = value instead\n",
      "\n",
      "See the caveats in the documentation: http://pandas.pydata.org/pandas-docs/stable/indexing.html#indexing-view-versus-copy\n",
      "  \"\"\"\n"
     ]
    },
    {
     "data": {
      "text/plain": [
       "time\n",
       "2020-01-02 00:00:00-05:00    24.37\n",
       "2020-01-03 00:00:00-05:00    24.17\n",
       "2020-01-06 00:00:00-05:00    24.32\n",
       "2020-01-07 00:00:00-05:00    24.28\n",
       "2020-01-08 00:00:00-05:00    24.36\n",
       "Name: ABB, dtype: float64"
      ]
     },
     "execution_count": 90,
     "metadata": {},
     "output_type": "execute_result"
    }
   ],
   "source": [
    "# Fetch the closing prices \n",
    "df_tickers_closing_prices[\"ABB\"] = df_tickers[\"ABB\"][\"close\"]\n",
    "df_tickers_closing_prices[\"TSLA\"] = df_tickers[\"TSLA\"][\"close\"]\n",
    "df_tickers_closing_prices[\"AMD\"] = df_tickers[\"AMD\"][\"close\"]\n",
    "df_tickers_closing_prices[\"RIOT\"] = df_tickers[\"RIOT\"][\"close\"]\n",
    "\n",
    "df_tickers_closing_prices[\"ABB\"].head()"
   ]
  },
  {
   "cell_type": "code",
   "execution_count": 91,
   "metadata": {},
   "outputs": [],
   "source": [
    "# Define Panel Visualization Functions\n",
    "def robintrack_ABB_stock_price ():\n",
    "    \"\"\"Robintrack AAB's accounts effect on ABB's Stock price.\"\"\"\n",
    "    abb_rt_data_mean = abb_rt_data.mean()\n",
    "    #abb_rt_data_mean['users_holding'] = abb_rt_data['users_holding'].fillna(2147.00)\n",
    "    df_tickers_closing_prices= df_tickers.xs(\"close\", axis='columns', level=1)\n",
    "    df_tickers_closing_prices_abb = df_tickers_closing_prices[\"ABB\"]\n",
    "    closing_prices_abb = df_tickers_closing_prices_abb.index.date\n",
    "    daily_return_abb = closing_prices_abb.pct_change()\n",
    "    concat_robin_ticker = pd.concat([df_tickers_closing_prices_abb,  abb_rt_data], axis=\"columns\", join=\"inner\")\n",
    "    #daily_ret_abb = concat_robin_ticker.pct_change()\n",
    "    abb_corr_plot = concat_robin_ticker.hvplot(title='RobinTrack ABB Accounts Effect in ABB Stock Price')\n",
    "    return abb_corr_plot\n",
    "    \n",
    "\n",
    "    "
   ]
  },
  {
   "cell_type": "markdown",
   "metadata": {},
   "source": [
    "# Panel Dashboard"
   ]
  },
  {
   "cell_type": "code",
   "execution_count": 92,
   "metadata": {},
   "outputs": [
    {
     "ename": "AttributeError",
     "evalue": "'numpy.ndarray' object has no attribute 'pct_change'",
     "output_type": "error",
     "traceback": [
      "\u001b[1;31m---------------------------------------------------------------------------\u001b[0m",
      "\u001b[1;31mAttributeError\u001b[0m                            Traceback (most recent call last)",
      "\u001b[1;32m<ipython-input-92-9e9006abd37e>\u001b[0m in \u001b[0;36m<module>\u001b[1;34m\u001b[0m\n\u001b[1;32m----> 1\u001b[1;33m \u001b[0mabb_analysis\u001b[0m\u001b[1;33m=\u001b[0m \u001b[0mpn\u001b[0m\u001b[1;33m.\u001b[0m\u001b[0mRow\u001b[0m\u001b[1;33m(\u001b[0m\u001b[1;34m\"## ABB RobinTrack and Stock Price Analysis\"\u001b[0m\u001b[1;33m,\u001b[0m \u001b[0mrobintrack_ABB_stock_price\u001b[0m \u001b[1;33m(\u001b[0m\u001b[1;33m)\u001b[0m\u001b[1;33m)\u001b[0m\u001b[1;33m\u001b[0m\u001b[1;33m\u001b[0m\u001b[0m\n\u001b[0m\u001b[0;32m      2\u001b[0m \u001b[1;33m\u001b[0m\u001b[0m\n\u001b[0;32m      3\u001b[0m \u001b[1;31m# Create tabs\u001b[0m\u001b[1;33m\u001b[0m\u001b[1;33m\u001b[0m\u001b[1;33m\u001b[0m\u001b[0m\n\u001b[0;32m      4\u001b[0m \u001b[1;33m\u001b[0m\u001b[0m\n\u001b[0;32m      5\u001b[0m \u001b[0mrobintrack_stock_analysis_dashboard\u001b[0m \u001b[1;33m=\u001b[0m \u001b[0mpn\u001b[0m\u001b[1;33m.\u001b[0m\u001b[0mTabs\u001b[0m\u001b[1;33m(\u001b[0m\u001b[1;34m\"ABB Analysis\"\u001b[0m\u001b[1;33m,\u001b[0m \u001b[0mabb_analysis\u001b[0m\u001b[1;33m)\u001b[0m\u001b[1;33m\u001b[0m\u001b[1;33m\u001b[0m\u001b[0m\n",
      "\u001b[1;32m<ipython-input-91-d3a5948ae1aa>\u001b[0m in \u001b[0;36mrobintrack_ABB_stock_price\u001b[1;34m()\u001b[0m\n\u001b[0;32m      7\u001b[0m     \u001b[0mdf_tickers_closing_prices_abb\u001b[0m \u001b[1;33m=\u001b[0m \u001b[0mdf_tickers_closing_prices\u001b[0m\u001b[1;33m[\u001b[0m\u001b[1;34m\"ABB\"\u001b[0m\u001b[1;33m]\u001b[0m\u001b[1;33m\u001b[0m\u001b[1;33m\u001b[0m\u001b[0m\n\u001b[0;32m      8\u001b[0m     \u001b[0mclosing_prices_abb\u001b[0m \u001b[1;33m=\u001b[0m \u001b[0mdf_tickers_closing_prices_abb\u001b[0m\u001b[1;33m.\u001b[0m\u001b[0mindex\u001b[0m\u001b[1;33m.\u001b[0m\u001b[0mdate\u001b[0m\u001b[1;33m\u001b[0m\u001b[1;33m\u001b[0m\u001b[0m\n\u001b[1;32m----> 9\u001b[1;33m     \u001b[0mdaily_return_abb\u001b[0m \u001b[1;33m=\u001b[0m \u001b[0mclosing_prices_abb\u001b[0m\u001b[1;33m.\u001b[0m\u001b[0mpct_change\u001b[0m\u001b[1;33m(\u001b[0m\u001b[1;33m)\u001b[0m\u001b[1;33m\u001b[0m\u001b[1;33m\u001b[0m\u001b[0m\n\u001b[0m\u001b[0;32m     10\u001b[0m     \u001b[0mconcat_robin_ticker\u001b[0m \u001b[1;33m=\u001b[0m \u001b[0mpd\u001b[0m\u001b[1;33m.\u001b[0m\u001b[0mconcat\u001b[0m\u001b[1;33m(\u001b[0m\u001b[1;33m[\u001b[0m\u001b[0mdf_tickers_closing_prices_abb\u001b[0m\u001b[1;33m,\u001b[0m  \u001b[0mabb_rt_data\u001b[0m\u001b[1;33m]\u001b[0m\u001b[1;33m,\u001b[0m \u001b[0maxis\u001b[0m\u001b[1;33m=\u001b[0m\u001b[1;34m\"columns\"\u001b[0m\u001b[1;33m,\u001b[0m \u001b[0mjoin\u001b[0m\u001b[1;33m=\u001b[0m\u001b[1;34m\"inner\"\u001b[0m\u001b[1;33m)\u001b[0m\u001b[1;33m\u001b[0m\u001b[1;33m\u001b[0m\u001b[0m\n\u001b[0;32m     11\u001b[0m     \u001b[1;31m#daily_ret_abb = concat_robin_ticker.pct_change()\u001b[0m\u001b[1;33m\u001b[0m\u001b[1;33m\u001b[0m\u001b[1;33m\u001b[0m\u001b[0m\n",
      "\u001b[1;31mAttributeError\u001b[0m: 'numpy.ndarray' object has no attribute 'pct_change'"
     ]
    }
   ],
   "source": [
    "abb_analysis= pn.Row(\"## ABB RobinTrack and Stock Price Analysis\", robintrack_ABB_stock_price ())\n",
    "\n",
    "# Create tabs\n",
    "\n",
    "robintrack_stock_analysis_dashboard = pn.Tabs(\"ABB Analysis\", abb_analysis)\n",
    "\n",
    "dashboard= pn.Column(pn.Row(\"Effect of Number of Individual Robinhood on Unerlying Price & Option Volatility for RIOT, AMD, ABB, and TSLA\"), \n",
    "                     robintrack_stock_analysis_dashboard)"
   ]
  },
  {
   "cell_type": "markdown",
   "metadata": {},
   "source": [
    "# Serve the Panel Dashboard"
   ]
  },
  {
   "cell_type": "code",
   "execution_count": 55,
   "metadata": {},
   "outputs": [
    {
     "data": {
      "application/vnd.holoviews_exec.v0+json": "",
      "text/html": [
       "<div id='1533'>\n",
       "\n",
       "\n",
       "\n",
       "\n",
       "\n",
       "  <div class=\"bk-root\" id=\"744b123f-71e5-4b1a-a34e-2c88134a7595\" data-root-id=\"1533\"></div>\n",
       "</div>\n",
       "<script type=\"application/javascript\">(function(root) {\n",
       "  function embed_document(root) {\n",
       "  var docs_json = {\"487ed13f-1c5e-46e6-a409-d5ddb280d4c3\":{\"roots\":{\"references\":[{\"attributes\":{\"axis_label\":\"\",\"bounds\":\"auto\",\"formatter\":{\"id\":\"1575\"},\"major_label_orientation\":\"horizontal\",\"ticker\":{\"id\":\"1555\"}},\"id\":\"1554\",\"type\":\"LinearAxis\"},{\"attributes\":{\"line_alpha\":0.1,\"line_color\":\"#1f77b3\",\"line_width\":2,\"x\":{\"field\":\"index\"},\"y\":{\"field\":\"value\"}},\"id\":\"1583\",\"type\":\"Line\"},{\"attributes\":{\"line_color\":\"#1f77b3\",\"line_width\":2,\"x\":{\"field\":\"index\"},\"y\":{\"field\":\"value\"}},\"id\":\"1582\",\"type\":\"Line\"},{\"attributes\":{\"source\":{\"id\":\"1579\"}},\"id\":\"1586\",\"type\":\"CDSView\"},{\"attributes\":{\"line_alpha\":0.1,\"line_color\":\"#ff7e0e\",\"line_width\":2,\"x\":{\"field\":\"index\"},\"y\":{\"field\":\"value\"}},\"id\":\"1601\",\"type\":\"Line\"},{\"attributes\":{},\"id\":\"1564\",\"type\":\"WheelZoomTool\"},{\"attributes\":{},\"id\":\"1592\",\"type\":\"UnionRenderers\"},{\"attributes\":{\"axis_label\":\"\",\"bounds\":\"auto\",\"formatter\":{\"id\":\"1577\"},\"major_label_orientation\":\"horizontal\",\"ticker\":{\"id\":\"1559\"}},\"id\":\"1558\",\"type\":\"LinearAxis\"},{\"attributes\":{\"bottom_units\":\"screen\",\"fill_alpha\":0.5,\"fill_color\":\"lightgrey\",\"left_units\":\"screen\",\"level\":\"overlay\",\"line_alpha\":1.0,\"line_color\":\"black\",\"line_dash\":[4,4],\"line_width\":2,\"right_units\":\"screen\",\"top_units\":\"screen\"},\"id\":\"1567\",\"type\":\"BoxAnnotation\"},{\"attributes\":{\"line_color\":\"#ff7e0e\",\"line_width\":2,\"x\":{\"field\":\"index\"},\"y\":{\"field\":\"value\"}},\"id\":\"1600\",\"type\":\"Line\"},{\"attributes\":{},\"id\":\"1550\",\"type\":\"LinearScale\"},{\"attributes\":{\"data\":{\"Variable\":[],\"index\":[],\"value\":{\"__ndarray__\":\"\",\"dtype\":\"float64\",\"order\":\"little\",\"shape\":[0]}},\"selected\":{\"id\":\"1598\"},\"selection_policy\":{\"id\":\"1612\"}},\"id\":\"1597\",\"type\":\"ColumnDataSource\"},{\"attributes\":{\"text\":\"RobinTrack ABB Accounts Effect in ABB Stock Price\",\"text_color\":{\"value\":\"black\"},\"text_font_size\":{\"value\":\"12pt\"}},\"id\":\"1546\",\"type\":\"Title\"},{\"attributes\":{},\"id\":\"1566\",\"type\":\"ResetTool\"},{\"attributes\":{\"children\":[{\"id\":\"1540\"},{\"id\":\"1545\"}],\"margin\":[0,0,0,0],\"name\":\"Row02020\"},\"id\":\"1539\",\"type\":\"Row\"},{\"attributes\":{},\"id\":\"1559\",\"type\":\"BasicTicker\"},{\"attributes\":{\"line_alpha\":0.2,\"line_color\":\"#ff7e0e\",\"line_width\":2,\"x\":{\"field\":\"index\"},\"y\":{\"field\":\"value\"}},\"id\":\"1602\",\"type\":\"Line\"},{\"attributes\":{\"children\":[{\"id\":\"1534\"},{\"id\":\"1536\"}],\"margin\":[0,0,0,0],\"name\":\"Column02027\"},\"id\":\"1533\",\"type\":\"Column\"},{\"attributes\":{\"align\":null,\"below\":[{\"id\":\"1554\"}],\"center\":[{\"id\":\"1557\"},{\"id\":\"1561\"}],\"left\":[{\"id\":\"1558\"}],\"margin\":null,\"min_border_bottom\":10,\"min_border_left\":10,\"min_border_right\":10,\"min_border_top\":10,\"plot_height\":300,\"plot_width\":700,\"renderers\":[{\"id\":\"1585\"},{\"id\":\"1603\"}],\"right\":[{\"id\":\"1595\"}],\"sizing_mode\":\"fixed\",\"title\":{\"id\":\"1546\"},\"toolbar\":{\"id\":\"1568\"},\"x_range\":{\"id\":\"1541\"},\"x_scale\":{\"id\":\"1550\"},\"y_range\":{\"id\":\"1542\"},\"y_scale\":{\"id\":\"1552\"}},\"id\":\"1545\",\"subtype\":\"Figure\",\"type\":\"Plot\"},{\"attributes\":{},\"id\":\"1575\",\"type\":\"BasicTickFormatter\"},{\"attributes\":{\"tags\":[[[\"index\",\"index\",null]]]},\"id\":\"1541\",\"type\":\"Range1d\"},{\"attributes\":{\"css_classes\":[\"markdown\"],\"margin\":[5,5,5,5],\"name\":\"Markdown02013\",\"text\":\"&lt;h2&gt;ABB RobinTrack and Stock Price Analysis&lt;/h2&gt;\"},\"id\":\"1540\",\"type\":\"panel.models.markup.HTML\"},{\"attributes\":{\"axis\":{\"id\":\"1554\"},\"grid_line_color\":null,\"ticker\":null},\"id\":\"1557\",\"type\":\"Grid\"},{\"attributes\":{\"client_comm_id\":\"6fefd6f755a44fd7b7975d1a5cf808d5\",\"comm_id\":\"cb5eaa2cbbd2471c8d62d9d788b02b27\",\"plot_id\":\"1533\"},\"id\":\"1737\",\"type\":\"panel.models.comm_manager.CommManager\"},{\"attributes\":{},\"id\":\"1612\",\"type\":\"UnionRenderers\"},{\"attributes\":{\"data_source\":{\"id\":\"1597\"},\"glyph\":{\"id\":\"1600\"},\"hover_glyph\":null,\"muted_glyph\":{\"id\":\"1602\"},\"nonselection_glyph\":{\"id\":\"1601\"},\"selection_glyph\":null,\"view\":{\"id\":\"1604\"}},\"id\":\"1603\",\"type\":\"GlyphRenderer\"},{\"attributes\":{\"css_classes\":[\"markdown\"],\"margin\":[5,5,5,5],\"name\":\"Markdown02024\",\"text\":\"&lt;p&gt;Effect of Number of Individual Robinhood on Unerlying Price &amp;amp; Option Volatility for RIOT, AMD, ABB, and TSLA&lt;/p&gt;\"},\"id\":\"1535\",\"type\":\"panel.models.markup.HTML\"},{\"attributes\":{},\"id\":\"1562\",\"type\":\"SaveTool\"},{\"attributes\":{},\"id\":\"1580\",\"type\":\"Selection\"},{\"attributes\":{\"child\":{\"id\":\"1537\"},\"name\":\"Markdown02021\",\"title\":\"Markdown\"},\"id\":\"1538\",\"type\":\"Panel\"},{\"attributes\":{\"data\":{\"Variable\":[],\"index\":[],\"value\":{\"__ndarray__\":\"\",\"dtype\":\"float64\",\"order\":\"little\",\"shape\":[0]}},\"selected\":{\"id\":\"1580\"},\"selection_policy\":{\"id\":\"1592\"}},\"id\":\"1579\",\"type\":\"ColumnDataSource\"},{\"attributes\":{\"axis\":{\"id\":\"1558\"},\"dimension\":1,\"grid_line_color\":null,\"ticker\":null},\"id\":\"1561\",\"type\":\"Grid\"},{\"attributes\":{\"line_alpha\":0.2,\"line_color\":\"#1f77b3\",\"line_width\":2,\"x\":{\"field\":\"index\"},\"y\":{\"field\":\"value\"}},\"id\":\"1584\",\"type\":\"Line\"},{\"attributes\":{\"tags\":[[[\"value\",\"value\",null]]]},\"id\":\"1542\",\"type\":\"Range1d\"},{\"attributes\":{\"label\":{\"value\":\"users_holding\"},\"renderers\":[{\"id\":\"1603\"}]},\"id\":\"1615\",\"type\":\"LegendItem\"},{\"attributes\":{},\"id\":\"1563\",\"type\":\"PanTool\"},{\"attributes\":{\"callback\":null,\"renderers\":[{\"id\":\"1585\"},{\"id\":\"1603\"}],\"tags\":[\"hv_created\"],\"tooltips\":[[\"Variable\",\"@{Variable}\"],[\"index\",\"@{index}\"],[\"value\",\"@{value}\"]]},\"id\":\"1543\",\"type\":\"HoverTool\"},{\"attributes\":{},\"id\":\"1552\",\"type\":\"LinearScale\"},{\"attributes\":{\"data_source\":{\"id\":\"1579\"},\"glyph\":{\"id\":\"1582\"},\"hover_glyph\":null,\"muted_glyph\":{\"id\":\"1584\"},\"nonselection_glyph\":{\"id\":\"1583\"},\"selection_glyph\":null,\"view\":{\"id\":\"1586\"}},\"id\":\"1585\",\"type\":\"GlyphRenderer\"},{\"attributes\":{},\"id\":\"1555\",\"type\":\"BasicTicker\"},{\"attributes\":{\"source\":{\"id\":\"1597\"}},\"id\":\"1604\",\"type\":\"CDSView\"},{\"attributes\":{\"active\":1,\"margin\":[0,0,0,0],\"tabs\":[{\"id\":\"1538\"},{\"id\":\"1706\"}]},\"id\":\"1536\",\"type\":\"Tabs\"},{\"attributes\":{\"child\":{\"id\":\"1539\"},\"name\":\"Row02020\",\"title\":\"Row02020\"},\"id\":\"1706\",\"type\":\"Panel\"},{\"attributes\":{\"click_policy\":\"mute\",\"items\":[{\"id\":\"1596\"},{\"id\":\"1615\"}],\"location\":[0,0],\"title\":\"Variable\"},\"id\":\"1595\",\"type\":\"Legend\"},{\"attributes\":{\"active_drag\":\"auto\",\"active_inspect\":\"auto\",\"active_multi\":null,\"active_scroll\":\"auto\",\"active_tap\":\"auto\",\"tools\":[{\"id\":\"1543\"},{\"id\":\"1562\"},{\"id\":\"1563\"},{\"id\":\"1564\"},{\"id\":\"1565\"},{\"id\":\"1566\"}]},\"id\":\"1568\",\"type\":\"Toolbar\"},{\"attributes\":{\"css_classes\":[\"markdown\"],\"margin\":[5,5,5,5],\"name\":\"Markdown02021\",\"text\":\"&lt;p&gt;ABB Analysis&lt;/p&gt;\"},\"id\":\"1537\",\"type\":\"panel.models.markup.HTML\"},{\"attributes\":{\"overlay\":{\"id\":\"1567\"}},\"id\":\"1565\",\"type\":\"BoxZoomTool\"},{\"attributes\":{},\"id\":\"1577\",\"type\":\"BasicTickFormatter\"},{\"attributes\":{\"children\":[{\"id\":\"1535\"}],\"margin\":[0,0,0,0],\"name\":\"Row02026\"},\"id\":\"1534\",\"type\":\"Row\"},{\"attributes\":{},\"id\":\"1598\",\"type\":\"Selection\"},{\"attributes\":{\"label\":{\"value\":\"ABB\"},\"renderers\":[{\"id\":\"1585\"}]},\"id\":\"1596\",\"type\":\"LegendItem\"}],\"root_ids\":[\"1533\",\"1737\"]},\"title\":\"Bokeh Application\",\"version\":\"2.1.1\"}};\n",
       "  var render_items = [{\"docid\":\"487ed13f-1c5e-46e6-a409-d5ddb280d4c3\",\"root_ids\":[\"1533\"],\"roots\":{\"1533\":\"744b123f-71e5-4b1a-a34e-2c88134a7595\"}}];\n",
       "  root.Bokeh.embed.embed_items_notebook(docs_json, render_items);\n",
       "  }\n",
       "if (root.Bokeh !== undefined) {\n",
       "    embed_document(root);\n",
       "  } else {\n",
       "    var attempts = 0;\n",
       "    var timer = setInterval(function(root) {\n",
       "      if (root.Bokeh !== undefined) {\n",
       "        clearInterval(timer);\n",
       "        embed_document(root);\n",
       "      } else if (document.readyState == \"complete\") {\n",
       "        attempts++;\n",
       "        if (attempts > 100) {\n",
       "          clearInterval(timer);\n",
       "          console.log(\"Bokeh: ERROR: Unable to run BokehJS code because BokehJS library is missing\");\n",
       "        }\n",
       "      }\n",
       "    }, 10, root)\n",
       "  }\n",
       "})(window);</script>"
      ],
      "text/plain": [
       "Column\n",
       "    [0] Row\n",
       "        [0] Markdown(str)\n",
       "    [1] Tabs(active=1)\n",
       "        [0] Markdown(str)\n",
       "        [1] Row\n",
       "            [0] Markdown(str)\n",
       "            [1] HoloViews(NdOverlay)"
      ]
     },
     "execution_count": 55,
     "metadata": {
      "application/vnd.holoviews_exec.v0+json": {
       "id": "1533"
      }
     },
     "output_type": "execute_result"
    }
   ],
   "source": [
    "dashboard.servable()"
   ]
  },
  {
   "cell_type": "code",
   "execution_count": null,
   "metadata": {},
   "outputs": [],
   "source": []
  }
 ],
 "metadata": {
  "kernelspec": {
   "display_name": "Python [conda env:pyvizenv] *",
   "language": "python",
   "name": "conda-env-pyvizenv-py"
  },
  "language_info": {
   "codemirror_mode": {
    "name": "ipython",
    "version": 3
   },
   "file_extension": ".py",
   "mimetype": "text/x-python",
   "name": "python",
   "nbconvert_exporter": "python",
   "pygments_lexer": "ipython3",
   "version": "3.7.7"
  }
 },
 "nbformat": 4,
 "nbformat_minor": 4
}
