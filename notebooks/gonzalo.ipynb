{
 "metadata": {
  "language_info": {
   "codemirror_mode": {
    "name": "ipython",
    "version": 3
   },
   "file_extension": ".py",
   "mimetype": "text/x-python",
   "name": "python",
   "nbconvert_exporter": "python",
   "pygments_lexer": "ipython3",
   "version": "3.7.4-final"
  },
  "orig_nbformat": 2,
  "kernelspec": {
   "name": "Python 3.7.4 64-bit ('anaconda3': virtualenv)",
   "display_name": "Python 3.7.4 64-bit ('anaconda3': virtualenv)",
   "metadata": {
    "interpreter": {
     "hash": "9f44d6c29d72d3298886974041bc92cc33b81b0a6f81ec6d10f67257f022a4af"
    }
   }
  }
 },
 "nbformat": 4,
 "nbformat_minor": 2,
 "cells": [
  {
   "cell_type": "code",
   "execution_count": null,
   "metadata": {},
   "outputs": [],
   "source": [
    "2. Data Analysis \n",
    "    \n",
    "    A. How does the number of individual Robinhood accounts holding a given security affect the strike price of the underlying? How does this affect implied volatility?\n",
    "\n",
    "    B. What is the correlation between price and volatility? For which stocks does the effect of Robinhood popularity have the greatest impact, and what insights do this offer on Robinhood's user base?"
   ]
  },
  {
   "cell_type": "code",
   "execution_count": null,
   "metadata": {},
   "outputs": [],
   "source": [
    "# Initial imports\n",
    "import os\n",
    "import pandas as pd\n",
    "from dotenv import load_dotenv\n",
    "from MCForecastTools import MCSimulation\n",
    "\n",
    "%matplotlib inline"
   ]
  },
  {
   "cell_type": "code",
   "execution_count": 4,
   "metadata": {},
   "outputs": [],
   "source": [
    "from pathlib import Path\n",
    "import pandas as pd"
   ]
  },
  {
   "cell_type": "code",
   "execution_count": 10,
   "metadata": {},
   "outputs": [],
   "source": [
    "#### Functions \n",
    "\n",
    "# The total number of months included in the dataset \n",
    "def get_data_robintrack(filepath):\n",
    "    df_robin_data = pd.read_csv(filepath)\n",
    "\n",
    "    return df_robin_data\n"
   ]
  },
  {
   "cell_type": "code",
   "execution_count": 154,
   "metadata": {},
   "outputs": [
    {
     "output_type": "execute_result",
     "data": {
      "text/plain": [
       "            users_holding\n",
       "timestamp                \n",
       "2020-01-01    2149.000000\n",
       "2020-01-02    2145.958333\n",
       "2020-01-03    2141.666667\n",
       "2020-01-04    2147.000000\n",
       "2020-01-05    2147.000000\n",
       "2020-01-06    2147.000000\n",
       "2020-01-07            NaN\n",
       "2020-01-08            NaN\n",
       "2020-01-09            NaN\n",
       "2020-01-10            NaN\n",
       "2020-01-11            NaN\n",
       "2020-01-12            NaN\n",
       "2020-01-13            NaN\n",
       "2020-01-14            NaN\n",
       "2020-01-15            NaN\n",
       "2020-01-16    2177.882353\n",
       "2020-01-17    2174.541667\n",
       "2020-01-18    2168.000000\n",
       "2020-01-19    2168.000000\n",
       "2020-01-20    2168.000000\n",
       "2020-01-21    2166.478261\n",
       "2020-01-22    2165.083333\n",
       "2020-01-23    2170.130435\n",
       "2020-01-24    2171.500000\n",
       "2020-01-25    2170.000000"
      ],
      "text/html": "<div>\n<style scoped>\n    .dataframe tbody tr th:only-of-type {\n        vertical-align: middle;\n    }\n\n    .dataframe tbody tr th {\n        vertical-align: top;\n    }\n\n    .dataframe thead th {\n        text-align: right;\n    }\n</style>\n<table border=\"1\" class=\"dataframe\">\n  <thead>\n    <tr style=\"text-align: right;\">\n      <th></th>\n      <th>users_holding</th>\n    </tr>\n    <tr>\n      <th>timestamp</th>\n      <th></th>\n    </tr>\n  </thead>\n  <tbody>\n    <tr>\n      <td>2020-01-01</td>\n      <td>2149.000000</td>\n    </tr>\n    <tr>\n      <td>2020-01-02</td>\n      <td>2145.958333</td>\n    </tr>\n    <tr>\n      <td>2020-01-03</td>\n      <td>2141.666667</td>\n    </tr>\n    <tr>\n      <td>2020-01-04</td>\n      <td>2147.000000</td>\n    </tr>\n    <tr>\n      <td>2020-01-05</td>\n      <td>2147.000000</td>\n    </tr>\n    <tr>\n      <td>2020-01-06</td>\n      <td>2147.000000</td>\n    </tr>\n    <tr>\n      <td>2020-01-07</td>\n      <td>NaN</td>\n    </tr>\n    <tr>\n      <td>2020-01-08</td>\n      <td>NaN</td>\n    </tr>\n    <tr>\n      <td>2020-01-09</td>\n      <td>NaN</td>\n    </tr>\n    <tr>\n      <td>2020-01-10</td>\n      <td>NaN</td>\n    </tr>\n    <tr>\n      <td>2020-01-11</td>\n      <td>NaN</td>\n    </tr>\n    <tr>\n      <td>2020-01-12</td>\n      <td>NaN</td>\n    </tr>\n    <tr>\n      <td>2020-01-13</td>\n      <td>NaN</td>\n    </tr>\n    <tr>\n      <td>2020-01-14</td>\n      <td>NaN</td>\n    </tr>\n    <tr>\n      <td>2020-01-15</td>\n      <td>NaN</td>\n    </tr>\n    <tr>\n      <td>2020-01-16</td>\n      <td>2177.882353</td>\n    </tr>\n    <tr>\n      <td>2020-01-17</td>\n      <td>2174.541667</td>\n    </tr>\n    <tr>\n      <td>2020-01-18</td>\n      <td>2168.000000</td>\n    </tr>\n    <tr>\n      <td>2020-01-19</td>\n      <td>2168.000000</td>\n    </tr>\n    <tr>\n      <td>2020-01-20</td>\n      <td>2168.000000</td>\n    </tr>\n    <tr>\n      <td>2020-01-21</td>\n      <td>2166.478261</td>\n    </tr>\n    <tr>\n      <td>2020-01-22</td>\n      <td>2165.083333</td>\n    </tr>\n    <tr>\n      <td>2020-01-23</td>\n      <td>2170.130435</td>\n    </tr>\n    <tr>\n      <td>2020-01-24</td>\n      <td>2171.500000</td>\n    </tr>\n    <tr>\n      <td>2020-01-25</td>\n      <td>2170.000000</td>\n    </tr>\n  </tbody>\n</table>\n</div>"
     },
     "metadata": {},
     "execution_count": 154
    }
   ],
   "source": [
    "# Variables / Input Data\n",
    "filepath = Path(\"../data/cleandata/Robintrack_Data/ABB_csv_clean.csv\")\n",
    "\n",
    "df_robin_data = get_data_robintrack(filepath)\n",
    "\n",
    "# transform column 'timestamp' str into timestamp\n",
    "df_robin_data['timestamp'] = pd.to_datetime(df_robin_data['timestamp'])\n",
    "\n",
    "## resample groupying by day \n",
    "df_robin_data = df_robin_data.resample('D', on='timestamp').mean()\n",
    "\n",
    "df_robin_data.head(25)\n"
   ]
  },
  {
   "cell_type": "code",
   "execution_count": 157,
   "metadata": {},
   "outputs": [
    {
     "output_type": "execute_result",
     "data": {
      "text/plain": [
       "            users_holding\n",
       "timestamp                \n",
       "2020-01-01    2149.000000\n",
       "2020-01-02    2145.958333\n",
       "2020-01-03    2141.666667\n",
       "2020-01-04    2147.000000\n",
       "2020-01-05    2147.000000\n",
       "2020-01-06    2147.000000\n",
       "2020-01-07    2147.000000\n",
       "2020-01-08    2147.000000\n",
       "2020-01-09    2147.000000\n",
       "2020-01-10    2147.000000\n",
       "2020-01-11    2147.000000\n",
       "2020-01-12    2147.000000\n",
       "2020-01-13    2147.000000\n",
       "2020-01-14    2147.000000\n",
       "2020-01-15    2147.000000\n",
       "2020-01-16    2177.882353\n",
       "2020-01-17    2174.541667\n",
       "2020-01-18    2168.000000\n",
       "2020-01-19    2168.000000\n",
       "2020-01-20    2168.000000\n",
       "2020-01-21    2166.478261\n",
       "2020-01-22    2165.083333\n",
       "2020-01-23    2170.130435\n",
       "2020-01-24    2171.500000\n",
       "2020-01-25    2170.000000"
      ],
      "text/html": "<div>\n<style scoped>\n    .dataframe tbody tr th:only-of-type {\n        vertical-align: middle;\n    }\n\n    .dataframe tbody tr th {\n        vertical-align: top;\n    }\n\n    .dataframe thead th {\n        text-align: right;\n    }\n</style>\n<table border=\"1\" class=\"dataframe\">\n  <thead>\n    <tr style=\"text-align: right;\">\n      <th></th>\n      <th>users_holding</th>\n    </tr>\n    <tr>\n      <th>timestamp</th>\n      <th></th>\n    </tr>\n  </thead>\n  <tbody>\n    <tr>\n      <td>2020-01-01</td>\n      <td>2149.000000</td>\n    </tr>\n    <tr>\n      <td>2020-01-02</td>\n      <td>2145.958333</td>\n    </tr>\n    <tr>\n      <td>2020-01-03</td>\n      <td>2141.666667</td>\n    </tr>\n    <tr>\n      <td>2020-01-04</td>\n      <td>2147.000000</td>\n    </tr>\n    <tr>\n      <td>2020-01-05</td>\n      <td>2147.000000</td>\n    </tr>\n    <tr>\n      <td>2020-01-06</td>\n      <td>2147.000000</td>\n    </tr>\n    <tr>\n      <td>2020-01-07</td>\n      <td>2147.000000</td>\n    </tr>\n    <tr>\n      <td>2020-01-08</td>\n      <td>2147.000000</td>\n    </tr>\n    <tr>\n      <td>2020-01-09</td>\n      <td>2147.000000</td>\n    </tr>\n    <tr>\n      <td>2020-01-10</td>\n      <td>2147.000000</td>\n    </tr>\n    <tr>\n      <td>2020-01-11</td>\n      <td>2147.000000</td>\n    </tr>\n    <tr>\n      <td>2020-01-12</td>\n      <td>2147.000000</td>\n    </tr>\n    <tr>\n      <td>2020-01-13</td>\n      <td>2147.000000</td>\n    </tr>\n    <tr>\n      <td>2020-01-14</td>\n      <td>2147.000000</td>\n    </tr>\n    <tr>\n      <td>2020-01-15</td>\n      <td>2147.000000</td>\n    </tr>\n    <tr>\n      <td>2020-01-16</td>\n      <td>2177.882353</td>\n    </tr>\n    <tr>\n      <td>2020-01-17</td>\n      <td>2174.541667</td>\n    </tr>\n    <tr>\n      <td>2020-01-18</td>\n      <td>2168.000000</td>\n    </tr>\n    <tr>\n      <td>2020-01-19</td>\n      <td>2168.000000</td>\n    </tr>\n    <tr>\n      <td>2020-01-20</td>\n      <td>2168.000000</td>\n    </tr>\n    <tr>\n      <td>2020-01-21</td>\n      <td>2166.478261</td>\n    </tr>\n    <tr>\n      <td>2020-01-22</td>\n      <td>2165.083333</td>\n    </tr>\n    <tr>\n      <td>2020-01-23</td>\n      <td>2170.130435</td>\n    </tr>\n    <tr>\n      <td>2020-01-24</td>\n      <td>2171.500000</td>\n    </tr>\n    <tr>\n      <td>2020-01-25</td>\n      <td>2170.000000</td>\n    </tr>\n  </tbody>\n</table>\n</div>"
     },
     "metadata": {},
     "execution_count": 157
    }
   ],
   "source": [
    "import numpy as np\n",
    "df_robin_data[np.isnan(df_robin_data)]=2147.00\n",
    "df_robin_data.head(25)"
   ]
  },
  {
   "cell_type": "code",
   "execution_count": 158,
   "metadata": {},
   "outputs": [
    {
     "output_type": "stream",
     "name": "stdout",
     "text": [
      "<class 'pandas.core.frame.DataFrame'>\nDatetimeIndex: 223 entries, 2020-01-01 to 2020-08-10\nFreq: D\nData columns (total 1 columns):\nusers_holding    223 non-null float64\ndtypes: float64(1)\nmemory usage: 3.5 KB\n"
     ]
    }
   ],
   "source": [
    "df_robin_data.info()"
   ]
  },
  {
   "cell_type": "code",
   "execution_count": null,
   "metadata": {},
   "outputs": [],
   "source": []
  },
  {
   "cell_type": "code",
   "execution_count": null,
   "metadata": {},
   "outputs": [],
   "source": [
    "#### Functions \n",
    "\n",
    "# The total number of months included in the dataset \n",
    "def get_data_robintrack(filepath):\n",
    "    with open(filepath, \"r\") as csvfile:            \n",
    "        my_csvreader = csv.reader(csvfile)\n",
    "        next(my_csvreader)                          #remove the column headers in cvs\n",
    "\n",
    "        nr_months = len(list(my_csvreader))         #not including headers \n",
    "        str_nr_months = f\"Total Months: {nr_months}\"\n",
    "\n",
    "    return str_nr_months"
   ]
  },
  {
   "cell_type": "code",
   "execution_count": null,
   "metadata": {},
   "outputs": [],
   "source": [
    "# Variables / Input Data\n",
    "filepath = Path(\"../data/Robintrack_Data/ABB.csv\")\n",
    "filepath_text = Path(\"../resources/results.txt\")\n",
    "list_of_functions = [f_nr_months, f_t_profit_losses, f_avg_change, f_greatest_increase, f_greatest_decrease]\n",
    "list_of_results = []\n",
    "\n",
    "\n",
    "for function in list_of_functions:\n",
    "    result_func = function(filepath)\n",
    "    print(result_func)\n",
    "    list_of_results.append(result_func)\n",
    "\n",
    "f_export_text_file (filepath_text, list_of_results)"
   ]
  }
 ]
}