{
 "metadata": {
  "language_info": {
   "codemirror_mode": {
    "name": "ipython",
    "version": 3
   },
   "file_extension": ".py",
   "mimetype": "text/x-python",
   "name": "python",
   "nbconvert_exporter": "python",
   "pygments_lexer": "ipython3",
   "version": "3.7.6-final"
  },
  "orig_nbformat": 2,
  "kernelspec": {
   "name": "python3",
   "display_name": "Python 3"
  }
 },
 "nbformat": 4,
 "nbformat_minor": 2,
 "cells": [
  {
   "cell_type": "code",
   "execution_count": 43,
   "metadata": {},
   "outputs": [],
   "source": [
    "import os\n",
    "import pandas as pd "
   ]
  },
  {
   "cell_type": "code",
   "execution_count": 55,
   "metadata": {},
   "outputs": [],
   "source": [
    "# BTC_prices = pd.read_csv('../data/cleandata/Robinhood_Crypto_Data/BTC_csv_clean.csv')\n",
    "# BTC_prices.set_index('timestamp', inplace=True)\n",
    "# BTC_returns_daily = BTC_prices['close_price'].pct_change()\n",
    "# BTC_returns_daily = pd.DataFrame(BTC_returns_daily.dropna(inplace=True))\n",
    "\n",
    "# daily_returns = pd.read_csv('../data/cleandata/Processed_Data/t10_daily_ret_prices_users.csv')\n",
    "# daily_returns = pd.DataFrame(daily_returns.dropna(inplace=True))\n",
    "\n",
    "# for stock in daily_returns:\n",
    "#     returns_concat = pd.concat('BTC_returns_daily','daily_returns')\n",
    "#     returns_corr = returns_concat.corr()\n",
    "#     print(returns_corr)"
   ]
  },
  {
   "cell_type": "code",
   "execution_count": null,
   "metadata": {},
   "outputs": [],
   "source": []
  }
 ]
}